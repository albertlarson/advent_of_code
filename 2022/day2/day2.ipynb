{
 "cells": [
  {
   "cell_type": "code",
   "execution_count": 3,
   "id": "28b22dd1",
   "metadata": {},
   "outputs": [
    {
     "name": "stdout",
     "output_type": "stream",
     "text": [
      "11449\n"
     ]
    }
   ],
   "source": [
    "## A, X are rock, equal 1 pt\n",
    "## B, Y are paper, equal 2 pts\n",
    "## C, Z are scissors, equal 3 pts\n",
    "\n",
    "## loss = 0, tie = 3, win = 6\n",
    "\n",
    "## total potential outcomes are 9, so 9 cases with their respective scores.\n",
    "\n",
    "\n",
    "with open('day2.txt') as file:\n",
    "    x = [i.strip() for i in file]\n",
    "    x = [i.split(' ') for i in x]\n",
    "    count = 0\n",
    "    for idx, i in enumerate(x):\n",
    "        match i:\n",
    "            case ['A','X']:\n",
    "                count+=4\n",
    "            case ['B','X']:\n",
    "                count+=1\n",
    "            case ['C','X']:\n",
    "                count+=7                \n",
    "            case ['A','Y']:\n",
    "                count+=8\n",
    "            case ['B','Y']:\n",
    "                count+=5\n",
    "            case ['C','Y']:\n",
    "                count+=2\n",
    "            case ['A','Z']:\n",
    "                count+=3\n",
    "            case ['B','Z']:\n",
    "                count+=9\n",
    "            case ['C','Z']:\n",
    "                count+=6\n",
    "print(count)"
   ]
  },
  {
   "cell_type": "code",
   "execution_count": 5,
   "id": "97a99bdd",
   "metadata": {},
   "outputs": [
    {
     "name": "stdout",
     "output_type": "stream",
     "text": [
      "13187\n"
     ]
    }
   ],
   "source": [
    "# A, B, C are rock, paper, scissors\n",
    "# X, Y, Z are loss, draw, win\n",
    "\n",
    "with open('day2.txt') as file:\n",
    "    x = [i.strip() for i in file]\n",
    "    x = [i.split(' ') for i in x]\n",
    "    count = 0\n",
    "    for idx, i in enumerate(x):\n",
    "        match i:\n",
    "            case ['A','X']:\n",
    "                count+=3\n",
    "            case ['B','X']:\n",
    "                count+=1\n",
    "            case ['C','X']:\n",
    "                count+=2                \n",
    "            case ['A','Y']:\n",
    "                count+=4\n",
    "            case ['B','Y']:\n",
    "                count+=5\n",
    "            case ['C','Y']:\n",
    "                count+=6\n",
    "            case ['A','Z']:\n",
    "                count+=8\n",
    "            case ['B','Z']:\n",
    "                count+=9\n",
    "            case ['C','Z']:\n",
    "                count+=7\n",
    "print(count)"
   ]
  }
 ],
 "metadata": {
  "kernelspec": {
   "display_name": "Python 3 (ipykernel)",
   "language": "python",
   "name": "python3"
  },
  "language_info": {
   "codemirror_mode": {
    "name": "ipython",
    "version": 3
   },
   "file_extension": ".py",
   "mimetype": "text/x-python",
   "name": "python",
   "nbconvert_exporter": "python",
   "pygments_lexer": "ipython3",
   "version": "3.10.8"
  }
 },
 "nbformat": 4,
 "nbformat_minor": 5
}
