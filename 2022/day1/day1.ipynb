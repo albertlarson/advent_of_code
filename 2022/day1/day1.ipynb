{
 "cells": [
  {
   "cell_type": "code",
   "execution_count": 27,
   "metadata": {},
   "outputs": [
    {
     "name": "stdout",
     "output_type": "stream",
     "text": [
      "68802\n"
     ]
    }
   ],
   "source": [
    "# part 1\n",
    "\n",
    "# initialize lists for sums and running tally counter\n",
    "elf_inventory_sum = []\n",
    "elf_running_tally = 0\n",
    "\n",
    "\n",
    "#open text file, strip new line characters at end of each row\n",
    "#uses try/except. empty row means new elf's inventory and throws error. \n",
    "with open('day1.txt','r') as elf_inventory:\n",
    "    g = [i.strip() for i in elf_inventory] \n",
    "    for idx,x in enumerate(g):\n",
    "        \n",
    "        #if code tries to add inventory to the running and fails because of space,\n",
    "        #this signifies new elf inventory and sets running tally to zero.\n",
    "        #it also archives the prior tally to a list\n",
    "        try:\n",
    "            elf_running_tally += int(x)\n",
    "        except:\n",
    "            elf_inventory_sum.append(elf_running_tally)\n",
    "            elf_running_tally = 0\n",
    "\n",
    "#finds max resources one elf has\n",
    "print(max(elf_inventory_sum))"
   ]
  },
  {
   "cell_type": "code",
   "execution_count": 31,
   "metadata": {},
   "outputs": [
    {
     "name": "stdout",
     "output_type": "stream",
     "text": [
      "[67860, 68708, 68802]\n",
      "205370\n"
     ]
    }
   ],
   "source": [
    "# part 2\n",
    "\n",
    "#can't use the max function, so instead just \n",
    "#sort the inventory we made in part 1 from lowest to highest resources\n",
    "sorted_elf_sum = sorted(elf_inventory_sum)\n",
    "print(sorted_elf_sum[-3:])\n",
    "print(sum(sorted_elf_sum[-3:]))"
   ]
  },
  {
   "cell_type": "code",
   "execution_count": null,
   "metadata": {},
   "outputs": [],
   "source": []
  }
 ],
 "metadata": {
  "kernelspec": {
   "display_name": "Python 3 (ipykernel)",
   "language": "python",
   "name": "python3"
  },
  "language_info": {
   "codemirror_mode": {
    "name": "ipython",
    "version": 3
   },
   "file_extension": ".py",
   "mimetype": "text/x-python",
   "name": "python",
   "nbconvert_exporter": "python",
   "pygments_lexer": "ipython3",
   "version": "3.9.6"
  },
  "vscode": {
   "interpreter": {
    "hash": "31f2aee4e71d21fbe5cf8b01ff0e069b9275f58929596ceb00d14d90e3e16cd6"
   }
  }
 },
 "nbformat": 4,
 "nbformat_minor": 2
}
