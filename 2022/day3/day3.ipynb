{
 "cells": [
  {
   "cell_type": "code",
   "execution_count": 59,
   "id": "6599de18",
   "metadata": {},
   "outputs": [
    {
     "name": "stdout",
     "output_type": "stream",
     "text": [
      "8139\n"
     ]
    }
   ],
   "source": [
    "## gets all letters in both capital and not capital\n",
    "import string\n",
    "x = list(string.ascii_lowercase)\n",
    "y = [i.upper() for i in x]\n",
    "\n",
    "## creates one list of capital / not capital\n",
    "z = []\n",
    "for i in x:\n",
    "    z.append(i)\n",
    "for i in y:\n",
    "    z.append(i)\n",
    "\n",
    "## creates indexable dictionary attributed to letter's value (a=1, b=2, A=27, B=28, etc)\n",
    "diction = {}\n",
    "for idx,i in enumerate(z):\n",
    "    diction[i] = list(range(len(z)))[idx] + 1\n",
    "diction\n",
    "\n",
    "# loops through each line of string, splits string in half,\n",
    "# creates set of all letters in both split strings, finds\n",
    "# duplicate letter in string, gets value from dictionary\n",
    "# of that string, and adds that value to count\n",
    "count = 0\n",
    "with open('day3.txt') as rucksack:\n",
    "    rucksack = [i.strip() for i in rucksack]\n",
    "    sackitemlength = [len(i)//2 for i in rucksack]\n",
    "    for idx,i in enumerate(rucksack):\n",
    "        for j in set(i[:sackitemlength[idx]]):\n",
    "            for k in set(i[sackitemlength[idx]:]):\n",
    "                if j == k:\n",
    "#                     print(j,k, diction[j])\n",
    "                    count += diction[j]\n",
    "print(count)"
   ]
  },
  {
   "cell_type": "code",
   "execution_count": 70,
   "id": "48b4d94c",
   "metadata": {},
   "outputs": [
    {
     "name": "stdout",
     "output_type": "stream",
     "text": [
      "2668\n"
     ]
    }
   ],
   "source": [
    "# print(len(rucksack))\n",
    "\n",
    "## indexes rucksack three lines at a time\n",
    "## gets set of letters in each line\n",
    "## finds what letter each string shares\n",
    "## gets value of that letter\n",
    "## adds value to count\n",
    "count = 0\n",
    "for idx,i in enumerate(list(range(100))):\n",
    "    j = set(rucksack[idx*3])\n",
    "    k = set(rucksack[idx*3+1])\n",
    "    l = set(rucksack[idx*3+2])\n",
    "    for m in j:\n",
    "        for n in k:\n",
    "            for o in l:\n",
    "                if (m == n) and (m == o):\n",
    "                    count += diction[m]\n",
    "#                     print(m,diction[m])\n",
    "#                     import sys\n",
    "#                     sys.quit()\n",
    "print(count)"
   ]
  }
 ],
 "metadata": {
  "kernelspec": {
   "display_name": "Python 3 (ipykernel)",
   "language": "python",
   "name": "python3"
  },
  "language_info": {
   "codemirror_mode": {
    "name": "ipython",
    "version": 3
   },
   "file_extension": ".py",
   "mimetype": "text/x-python",
   "name": "python",
   "nbconvert_exporter": "python",
   "pygments_lexer": "ipython3",
   "version": "3.10.8"
  }
 },
 "nbformat": 4,
 "nbformat_minor": 5
}
