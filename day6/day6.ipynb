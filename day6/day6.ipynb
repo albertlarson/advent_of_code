{
 "cells": [
  {
   "cell_type": "code",
   "execution_count": 91,
   "id": "56201b7d",
   "metadata": {},
   "outputs": [],
   "source": [
    "string = []\n",
    "with open('day6.txt') as f:\n",
    "    for i in f:\n",
    "        for j in i:\n",
    "            string.append(j)"
   ]
  },
  {
   "cell_type": "code",
   "execution_count": 100,
   "id": "a5c891b4",
   "metadata": {},
   "outputs": [
    {
     "name": "stdout",
     "output_type": "stream",
     "text": [
      "Counter({'s': 1, 'z': 1, 'f': 1, 'm': 1})\n",
      "hurray!\n",
      "1582\n"
     ]
    }
   ],
   "source": [
    "for idx,_ in enumerate(string):\n",
    "    x = string[idx],string[idx+1],string[idx+2],string[idx+3]\n",
    "#     print(x)\n",
    "    from collections import Counter\n",
    "    y = Counter(x)\n",
    "    y1 = list(y)\n",
    "#     print(y[y1[0]])\n",
    "    try:\n",
    "        match [y[y1[0]],y[y1[1]],y[y1[2]],y[y1[3]]]:\n",
    "            case [1,1,1,1]:\n",
    "                print(y)\n",
    "                print('hurray!')\n",
    "                print(f'{idx+4}')\n",
    "                break\n",
    "    except:\n",
    "        continue\n",
    "\n"
   ]
  },
  {
   "cell_type": "code",
   "execution_count": 101,
   "id": "150fcd96",
   "metadata": {},
   "outputs": [
    {
     "name": "stdout",
     "output_type": "stream",
     "text": [
      "Counter({'r': 1, 'd': 1, 'v': 1, 'h': 1, 't': 1, 'g': 1, 'b': 1, 'p': 1, 's': 1, 'm': 1, 'z': 1, 'n': 1, 'l': 1, 'f': 1})\n",
      "hurray!\n",
      "3588\n"
     ]
    }
   ],
   "source": [
    "for idx,_ in enumerate(string):\n",
    "    x = string[idx],string[idx+1],string[idx+2],string[idx+3],string[idx+4],string[idx+5],string[idx+6],string[idx+7],string[idx+8],string[idx+9],string[idx+10],string[idx+11],string[idx+12],string[idx+13]\n",
    "#     print(x)\n",
    "#     break\n",
    "    #     print(x)\n",
    "    from collections import Counter\n",
    "    y = Counter(x)\n",
    "    y1 = list(y)\n",
    "#     print(y[y1[0]])\n",
    "    try:\n",
    "        match [y[y1[0]],y[y1[1]],y[y1[2]],\n",
    "               y[y1[3]],y[y1[4]],y[y1[5]],\n",
    "               y[y1[6]],y[y1[7]],y[y1[8]],\n",
    "               y[y1[9]],y[y1[10]],y[y1[11]],\n",
    "               y[y1[12]],y[y1[13]]]:\n",
    "            case [1,1,1,1,1,1,1,1,1,1,1,1,1,1]:\n",
    "                print(y)\n",
    "                print('hurray!')\n",
    "                print(f'{idx+14}')\n",
    "                break\n",
    "    except:\n",
    "        continue"
   ]
  },
  {
   "cell_type": "code",
   "execution_count": null,
   "id": "23d31acb",
   "metadata": {},
   "outputs": [],
   "source": []
  }
 ],
 "metadata": {
  "kernelspec": {
   "display_name": "Python 3 (ipykernel)",
   "language": "python",
   "name": "python3"
  },
  "language_info": {
   "codemirror_mode": {
    "name": "ipython",
    "version": 3
   },
   "file_extension": ".py",
   "mimetype": "text/x-python",
   "name": "python",
   "nbconvert_exporter": "python",
   "pygments_lexer": "ipython3",
   "version": "3.10.8"
  }
 },
 "nbformat": 4,
 "nbformat_minor": 5
}
