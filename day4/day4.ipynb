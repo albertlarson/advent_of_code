{
 "cells": [
  {
   "cell_type": "code",
   "execution_count": 86,
   "id": "41d97ff9",
   "metadata": {},
   "outputs": [
    {
     "name": "stdout",
     "output_type": "stream",
     "text": [
      "456\n"
     ]
    }
   ],
   "source": [
    "count = 0\n",
    "with open('day4.txt') as f:\n",
    "    f = [i.strip() for i in f]\n",
    "    for idx, i in enumerate(f):\n",
    "        f0 = i.split(',')\n",
    "        f1 = f0[0].split('-')\n",
    "        f2 = f0[1].split('-')\n",
    "        f3 = [int(i) for i in f1]\n",
    "        f4 = [int(i) for i in f2]\n",
    "        f3range = f3[0],f3[1]\n",
    "        f4range = f4[0],f4[1]\n",
    "        \n",
    "        if (f3range[0] <= f4range[0]) and (f3range[1] >= f4range[1]):\n",
    "            count += 1\n",
    "        elif (f3range[0] >= f4range[0]) and (f3range[1] <= f4range[1]):\n",
    "            count += 1\n",
    "        \n",
    "print(count)\n",
    "    "
   ]
  },
  {
   "cell_type": "code",
   "execution_count": 96,
   "id": "4d4e555d",
   "metadata": {},
   "outputs": [
    {
     "name": "stdout",
     "output_type": "stream",
     "text": [
      "808\n"
     ]
    }
   ],
   "source": [
    "count = 0\n",
    "with open('day4.txt') as f:\n",
    "    f = [i.strip() for i in f]\n",
    "    for idx, i in enumerate(f):\n",
    "        f0 = i.split(',')\n",
    "        f1 = f0[0].split('-')\n",
    "        f2 = f0[1].split('-')\n",
    "        f3 = [int(i) for i in f1]\n",
    "        f4 = [int(i) for i in f2]\n",
    "        f3range = f3[0],f3[1]+1\n",
    "        f4range = f4[0],f4[1]+1\n",
    "        \n",
    "        f3range1 = list(range(f3range[0],f3range[1]))\n",
    "        f4range1 = list(range(f4range[0],f4range[1]))\n",
    "        \n",
    "        for i in f3range1:\n",
    "            if i not in f4range1:\n",
    "#                 print('no')\n",
    "                continue\n",
    "            else:\n",
    "#                 print('yes')\n",
    "                count += 1\n",
    "                break\n",
    "            break\n",
    "    \n",
    "        \n",
    "print(count)"
   ]
  },
  {
   "cell_type": "code",
   "execution_count": null,
   "id": "68ce9ac0",
   "metadata": {},
   "outputs": [],
   "source": []
  }
 ],
 "metadata": {
  "kernelspec": {
   "display_name": "Python 3 (ipykernel)",
   "language": "python",
   "name": "python3"
  },
  "language_info": {
   "codemirror_mode": {
    "name": "ipython",
    "version": 3
   },
   "file_extension": ".py",
   "mimetype": "text/x-python",
   "name": "python",
   "nbconvert_exporter": "python",
   "pygments_lexer": "ipython3",
   "version": "3.10.8"
  }
 },
 "nbformat": 4,
 "nbformat_minor": 5
}
