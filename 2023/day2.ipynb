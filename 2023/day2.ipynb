{
 "cells": [
  {
   "cell_type": "code",
   "execution_count": 64,
   "metadata": {},
   "outputs": [],
   "source": [
    "j = []\n",
    "with open('./day2.txt') as f:\n",
    "    for i in f:\n",
    "        j.append(i)"
   ]
  },
  {
   "cell_type": "code",
   "execution_count": 71,
   "metadata": {},
   "outputs": [
    {
     "name": "stdout",
     "output_type": "stream",
     "text": [
      "2551\n"
     ]
    }
   ],
   "source": [
    "possible__game__ids = []\n",
    "for i in j:\n",
    "    subgames = i.strip().split(';')\n",
    "    gameid = subgames[0].split(':')[0]\n",
    "    subgames[0] = subgames[0].split(':')[-1] # parses off \"Game #:\"\n",
    "    pattern = re.compile(r'(\\d+) (\\w+)')\n",
    "    no_flag = True\n",
    "    for xdx, x in enumerate(subgames):\n",
    "        matches = pattern.findall(x)\n",
    "        color_counts = {}\n",
    "        for count, color in matches:\n",
    "            color_counts[color] = int(count)\n",
    "        master_color_count = {'red': 12, 'green': 13, 'blue': 14}\n",
    "        flag = False\n",
    "        for color, count in color_counts.items():\n",
    "            if count > master_color_count[color]:\n",
    "                flag = True\n",
    "                no_flag = False\n",
    "                break\n",
    "    if no_flag:\n",
    "        possible__game__ids.append(int(gameid.split(' ')[-1]))\n",
    "print(sum(possible__game__ids))"
   ]
  },
  {
   "cell_type": "code",
   "execution_count": null,
   "metadata": {},
   "outputs": [],
   "source": []
  }
 ],
 "metadata": {
  "kernelspec": {
   "display_name": "Python 3",
   "language": "python",
   "name": "python3"
  },
  "language_info": {
   "codemirror_mode": {
    "name": "ipython",
    "version": 3
   },
   "file_extension": ".py",
   "mimetype": "text/x-python",
   "name": "python",
   "nbconvert_exporter": "python",
   "pygments_lexer": "ipython3",
   "version": "3.11.5"
  }
 },
 "nbformat": 4,
 "nbformat_minor": 2
}
