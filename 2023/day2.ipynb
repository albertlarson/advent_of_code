{
 "cells": [
  {
   "cell_type": "code",
   "execution_count": 64,
   "metadata": {},
   "outputs": [],
   "source": [
    "j = []\n",
    "with open('./day2.txt') as f:\n",
    "    for i in f:\n",
    "        j.append(i)"
   ]
  },
  {
   "cell_type": "code",
   "execution_count": 72,
   "metadata": {},
   "outputs": [
    {
     "name": "stdout",
     "output_type": "stream",
     "text": [
      "2551\n"
     ]
    }
   ],
   "source": [
    "# part 1\n",
    "pattern = re.compile(r'(\\d+) (\\w+)')\n",
    "possible__game__ids = []\n",
    "for i in j:\n",
    "    subgames = i.strip().split(';')\n",
    "    gameid = subgames[0].split(':')[0]\n",
    "    subgames[0] = subgames[0].split(':')[-1] # parses off \"Game #:\"\n",
    "\n",
    "    no_flag = True\n",
    "    for xdx, x in enumerate(subgames):\n",
    "        matches = pattern.findall(x)\n",
    "        color_counts = {}\n",
    "        for count, color in matches:\n",
    "            color_counts[color] = int(count)\n",
    "        master_color_count = {'red': 12, 'green': 13, 'blue': 14}\n",
    "        flag = False\n",
    "        for color, count in color_counts.items():\n",
    "            if count > master_color_count[color]:\n",
    "                flag = True\n",
    "                no_flag = False\n",
    "                break\n",
    "    if no_flag:\n",
    "        possible__game__ids.append(int(gameid.split(' ')[-1]))\n",
    "print(sum(possible__game__ids))"
   ]
  },
  {
   "cell_type": "code",
   "execution_count": 85,
   "metadata": {},
   "outputs": [
    {
     "name": "stdout",
     "output_type": "stream",
     "text": [
      "62811\n"
     ]
    }
   ],
   "source": [
    "# part 2\n",
    "from functools import reduce\n",
    "def calculate_product(max_values):\n",
    "    \"\"\"\n",
    "\n",
    "    explanation from chatGPT\n",
    "    line of code from github copilot\n",
    "    decision to functionalize -- author's choice\n",
    "\n",
    "    This line of code uses the reduce function and \n",
    "    a lambda (anonymous) function to calculate the \n",
    "    product of all the values in the max_values dictionary.\n",
    "\n",
    "    Let's break it down:\n",
    "\n",
    "    max_values.values(): This returns a view of all \n",
    "    values in the max_values dictionary.\n",
    "\n",
    "    lambda x, y: x * y: This is an anonymous function\n",
    "    (lambda function) that takes two arguments (x and y)\n",
    "    and returns their product (x * y).\n",
    "\n",
    "    reduce(lambda x, y: x * y, max_values.values()): The reduce \n",
    "    function from the functools module takes a binary function \n",
    "    (in this case, the lambda function) and a sequence (the \n",
    "    values in max_values). It starts by applying the lambda \n",
    "    function to the first two elements of the sequence (x and y).\n",
    "    Then, it takes the result and applies the lambda function to \n",
    "    the next element in the sequence along with the previous result.\n",
    "    This process continues until all elements in the sequence \n",
    "    are processed, and a single result (the product of all \n",
    "    elements) is obtained. So, the line of code is calculating\n",
    "    the product of all values in the max_values dictionary \n",
    "    using the reduce function and the provided lambda \n",
    "    function. The final result is stored in the variable product.\n",
    "    \"\"\"\n",
    "\n",
    "    product = reduce(lambda x, y: x * y, max_values.values())\n",
    "    return product\n",
    "\n",
    "## Example usage:\n",
    "# max_values = {'red': 12, 'green': 13, 'blue': 14}\n",
    "# result = calculate_product(max_values)\n",
    "# print(result)\n",
    "\n",
    "cubes = []\n",
    "for i in j:\n",
    "    # print('\\n')\n",
    "    subgames = i.strip().split(';')\n",
    "    gameid = subgames[0].split(':')[0]\n",
    "    subgames[0] = subgames[0].split(':')[-1] # parses off \"Game #:\"\n",
    "    color_store = []\n",
    "    for xdx, x in enumerate(subgames):\n",
    "        matches = pattern.findall(x)\n",
    "        color_counts = {}\n",
    "        for count, color in matches:\n",
    "            color_counts[color] = int(count)\n",
    "        # master_color_count = {'red': 12, 'green': 13, 'blue': 14}\n",
    "        color_store.append(color_counts)\n",
    "    max_values = {}\n",
    "    for item in color_store:\n",
    "        for color, value in item.items():\n",
    "            if color not in max_values or value > max_values[color]:\n",
    "                max_values[color] = value\n",
    "    cubes.append(calculate_product(max_values))\n",
    "print(sum(cubes))"
   ]
  }
 ],
 "metadata": {
  "kernelspec": {
   "display_name": "Python 3",
   "language": "python",
   "name": "python3"
  },
  "language_info": {
   "codemirror_mode": {
    "name": "ipython",
    "version": 3
   },
   "file_extension": ".py",
   "mimetype": "text/x-python",
   "name": "python",
   "nbconvert_exporter": "python",
   "pygments_lexer": "ipython3",
   "version": "3.11.5"
  }
 },
 "nbformat": 4,
 "nbformat_minor": 2
}
