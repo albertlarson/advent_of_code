{
 "cells": [
  {
   "cell_type": "code",
   "execution_count": 7,
   "metadata": {},
   "outputs": [
    {
     "name": "stdout",
     "output_type": "stream",
     "text": [
      "55929\n"
     ]
    }
   ],
   "source": [
    "import regex\n",
    "j = []\n",
    "with open('./day1_part1.txt') as f:\n",
    "    for i in f:\n",
    "        j.append(i)\n",
    "\n",
    "number_dict = {\n",
    "    'zero': 0,\n",
    "    'one': 1,\n",
    "    'two': 2,\n",
    "    'three': 3,\n",
    "    'four': 4,\n",
    "    'five': 5,\n",
    "    'six': 6,\n",
    "    'seven': 7,\n",
    "    'eight': 8,\n",
    "    'nine': 9\n",
    "}\n",
    "pattern = r'one|two|three|four|five|six|seven|eight|nine|[0-9]'\n",
    "start_point = 0\n",
    "\n",
    "x4 = []\n",
    "for x in j:\n",
    "    matches = regex.finditer(pattern, x[start_point:])\n",
    "    matchess = list(matches)\n",
    "\n",
    "    x1 = matchess[0].group()\n",
    "    x2 = matchess[-1].group()\n",
    "\n",
    "    if x1.isalpha() == True:\n",
    "        x1 = number_dict[x1]\n",
    "    else:\n",
    "        x1 = int(x1)\n",
    "\n",
    "    if x2.isalpha() == True:\n",
    "        x2 = number_dict[x2]\n",
    "    else:\n",
    "        x2 = int(x2)\n",
    "\n",
    "    x3 = str(x1) + str(x2)\n",
    "    x4.append(int(x3))\n",
    "\n",
    "# print(x4)\n",
    "print(sum(x4))\n"
   ]
  },
  {
   "cell_type": "code",
   "execution_count": 6,
   "metadata": {},
   "outputs": [
    {
     "name": "stdout",
     "output_type": "stream",
     "text": [
      "55902\n"
     ]
    }
   ],
   "source": [
    "patterns = r'one|two|three|four|five|six|seven|eight|nine|1|2|3|4|5|6|7|8|9'\n",
    "combined_pattern = f'(?=({patterns}))'\n",
    "\n",
    "def get_digit(input_string):\n",
    "    string_to_digit_mapping = {\n",
    "        'one': '1',\n",
    "        'two': '2',\n",
    "        'three': '3',\n",
    "        'four': '4',\n",
    "        'five': '5',\n",
    "        'six': '6',\n",
    "        'seven': '7',\n",
    "        'eight': '8',\n",
    "        'nine': '9'\n",
    "    }\n",
    "    if input_string.lower() in string_to_digit_mapping:\n",
    "        return string_to_digit_mapping[input_string.lower()]\n",
    "\n",
    "    if input_string.isdigit():\n",
    "        return input_string\n",
    "\n",
    "    return None\n",
    "\n",
    "x3 = []\n",
    "for i in j:\n",
    "    matches = [match.group(1) for match in regex.finditer(combined_pattern, i)]\n",
    "    x1 = get_digit(matches[0])\n",
    "    x2 = get_digit(matches[-1])\n",
    "    x3.append(int(x1+x2))\n",
    "    x4 = sum(x3)\n",
    "print(x4)\n",
    "\n"
   ]
  }
 ],
 "metadata": {
  "kernelspec": {
   "display_name": "Python 3 (ipykernel)",
   "language": "python",
   "name": "python3"
  },
  "language_info": {
   "codemirror_mode": {
    "name": "ipython",
    "version": 3
   },
   "file_extension": ".py",
   "mimetype": "text/x-python",
   "name": "python",
   "nbconvert_exporter": "python",
   "pygments_lexer": "ipython3",
   "version": "3.11.5"
  }
 },
 "nbformat": 4,
 "nbformat_minor": 5
}
